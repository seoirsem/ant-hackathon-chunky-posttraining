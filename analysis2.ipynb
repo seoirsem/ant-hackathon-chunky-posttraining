{
 "cells": [
  {
   "cell_type": "code",
   "execution_count": 2,
   "metadata": {},
   "outputs": [],
   "source": [
    "import pandas as pd\n",
    "from pathlib import Path\n"
   ]
  },
  {
   "cell_type": "code",
   "execution_count": 3,
   "metadata": {},
   "outputs": [],
   "source": [
    "def extract_stats(path: Path):\n",
    "    df = pd.read_json(path, lines=True)\n",
    "\n",
    "    cols = [\"eval_en\", \"eval_de\", \"eval_city\", \"eval_disease\"]\n",
    "\n",
    "    exp_names = df[\"exp_name\"].unique()\n",
    "\n",
    "\n",
    "    ret = {}\n",
    "\n",
    "    for exp in exp_names:\n",
    "        small = df[df[\"exp_name\"] == exp]\n",
    "        res = {}\n",
    "        for col in cols:\n",
    "            res[col] = small[col].mean().item()\n",
    "\n",
    "        ret[exp] = res\n",
    "    return ret"
   ]
  },
  {
   "cell_type": "code",
   "execution_count": 4,
   "metadata": {},
   "outputs": [],
   "source": [
    "baseline_path = Path(\"/workspace/chunky-experiments/baseline-output-qwen2-7b/results_evaluated.jsonl\")\n",
    "finetuned_path = Path(\"/workspace/chunky-experiments/experiments/2025-06-22_19-25-13_7B_sen_len_4_opts\")\n",
    "\n",
    "baseline_stats = extract_stats(baseline_path)\n",
    "\n",
    "# list all folders in finetuned_path\n",
    "\n",
    "results = {}\n",
    "\n",
    "results[\"baseline\"] = baseline_stats\n",
    "finetuned_folders = list(finetuned_path.glob(\"*\"))\n",
    "for file in finetuned_folders:\n",
    "    results_path = file / \"validation_data\" / \"results_evaluated.jsonl\"\n",
    "    if results_path.exists():\n",
    "        finetuned_stats = extract_stats(results_path)\n",
    "        # find first underscore and remove everything before it\n",
    "        exp_name = file.name[file.name.find(\"_\") + 1:]\n",
    "        results[exp_name] = finetuned_stats\n",
    "       "
   ]
  },
  {
   "cell_type": "code",
   "execution_count": 15,
   "metadata": {},
   "outputs": [],
   "source": [
    "import numpy as np\n",
    "\n",
    "agg = {\n",
    "    \"in\": {\n",
    "        \"language\": [],\n",
    "        \"domain\": [],\n",
    "    },\n",
    "    \"out\": {\n",
    "        \"language\": [],\n",
    "        \"domain\": [],\n",
    "    }\n",
    "}\n",
    "\n",
    "STARTS = {\n",
    "    \"en\": \"start_en\",\n",
    "    \"de\": \"start_de\",\n",
    "    \"city\": \"city\",\n",
    "    \"disease\": \"disease\",\n",
    "}\n",
    "\n",
    "EVALS = {\n",
    "    \"en\": \"eval_en\",\n",
    "    \"de\": \"eval_de\",\n",
    "    \"city\": \"eval_city\",\n",
    "    \"disease\": \"eval_disease\",\n",
    "}\n",
    "\n",
    "gen = {\n",
    "    \"en\": {\n",
    "        \"in\": [],\n",
    "        \"out\": [],\n",
    "    },\n",
    "    \"de\": {\n",
    "        \"in\": [],\n",
    "        \"out\": [],\n",
    "    }\n",
    "}\n",
    "\n",
    "\n",
    "for exp in results:\n",
    "    if exp == \"baseline\":\n",
    "        continue\n",
    "\n",
    "\n",
    "\n",
    "    lst = exp.split(\"_\")\n",
    "    pair1 = (lst[0], lst[2])\n",
    "    pair2 = (lst[3], lst[5])\n",
    "    base = results[\"baseline\"]\n",
    "    fine = results[exp]\n",
    "\n",
    "    agg[\"in\"][\"language\"].append(fine[STARTS[pair1[0]]][EVALS[pair1[1]]] - base[STARTS[pair1[0]]][EVALS[pair1[1]]]) \n",
    "\n",
    "    agg[\"in\"][\"language\"].append(fine[STARTS[pair2[0]]][EVALS[pair2[1]]] - base[STARTS[pair2[0]]][EVALS[pair2[1]]])\n",
    "    agg[\"in\"][\"domain\"].append(fine[STARTS[pair2[1]]][EVALS[pair2[0]]] - base[STARTS[pair2[1]]][EVALS[pair2[0]]])\n",
    "\n",
    "\n",
    "    agg[\"out\"][\"language\"].append(fine[STARTS[pair1[0]]][EVALS[pair2[1]]] - base[STARTS[pair1[0]]][EVALS[pair2[1]]])\n",
    "    agg[\"out\"][\"domain\"].append(fine[STARTS[pair1[1]]][EVALS[pair2[0]]] - base[STARTS[pair1[1]]][EVALS[pair2[0]]])\n",
    "\n",
    "    agg[\"out\"][\"language\"].append(fine[STARTS[pair2[0]]][EVALS[pair1[1]]] - base[STARTS[pair2[0]]][EVALS[pair1[1]]])\n",
    "\n",
    "    gen[\"en\"][\"in\"].append(fine[STARTS[pair1[1]]][EVALS[pair1[0]]])\n",
    "    gen[\"en\"][\"out\"].append(fine[STARTS[pair2[1]]][EVALS[pair1[0]]])\n",
    "\n",
    "    gen[\"de\"][\"in\"].append(fine[STARTS[pair2[1]]][EVALS[pair2[0]]])\n",
    "    gen[\"de\"][\"out\"].append(fine[STARTS[pair2[1]]][EVALS[pair1[0]]])\n",
    "\n",
    "\n",
    "    # agg[\"in\"][\"domain\"].append(fine[STARTS[pair1[1]]][EVALS[pair1[0]]] - base[STARTS[pair1[1]]][EVALS[pair1[0]]])\n",
    "    # agg[\"out\"][\"domain\"].append(fine[STARTS[pair2[1]]][EVALS[pair1[0]]] - base[STARTS[pair2[1]]][EVALS[pair1[0]]])\n",
    "\n",
    "    # show english is more malleable than german\n",
    "\n",
    "\n",
    "for key in agg:\n",
    "    for subkey in agg[key]:\n",
    "        lst = agg[key][subkey]\n",
    "        agg[key][subkey] = np.mean(lst).item(), np.std(lst).item() / np.sqrt(len(lst)).item()"
   ]
  },
  {
   "cell_type": "code",
   "execution_count": 16,
   "metadata": {},
   "outputs": [
    {
     "data": {
      "text/plain": [
       "{'en': {'in': [1.0, 1.0, 1.0, 1.0], 'out': [0.2, 0.24, 0.22, 0.14]},\n",
       " 'de': {'in': [0.84, 0.9, 0.96, 0.96], 'out': [0.2, 0.24, 0.22, 0.14]}}"
      ]
     },
     "execution_count": 16,
     "metadata": {},
     "output_type": "execute_result"
    }
   ],
   "source": [
    "results.keys()"
   ]
  },
  {
   "cell_type": "code",
   "execution_count": 6,
   "metadata": {},
   "outputs": [
    {
     "data": {
      "image/png": "[encoded data removed]",
      "text/plain": [
       "<Figure size 800x600 with 1 Axes>"
      ]
     },
     "metadata": {},
     "output_type": "display_data"
    }
   ],
   "source": [
    "import matplotlib.pyplot as plt\n",
    "\n",
    "\n",
    "# Categories\n",
    "categories = ['in', 'out']\n",
    "x = np.arange(len(categories))\n",
    "width = 0.35  # bar width\n",
    "\n",
    "# Means and standard errors\n",
    "means_language = [agg[cat]['language'][0] for cat in categories]\n",
    "errors_language = [agg[cat]['language'][1] for cat in categories]\n",
    "\n",
    "means_domain = [agg[cat]['domain'][0] for cat in categories]\n",
    "errors_domain = [agg[cat]['domain'][1] for cat in categories]\n",
    "\n",
    "# Plotting\n",
    "fig, ax = plt.subplots(figsize=(8, 6))\n",
    "ax.bar(x - width/2, means_language, width, yerr=errors_language, label='Language', capsize=5)\n",
    "ax.bar(x + width/2, means_domain, width, yerr=errors_domain, label='Domain', capsize=5)\n",
    "\n",
    "# Formatting\n",
    "ax.set_ylabel('Value')\n",
    "ax.set_title('In vs Out: Language and Domain')\n",
    "ax.set_xticks(x)\n",
    "ax.set_xticklabels(categories)\n",
    "ax.legend()\n",
    "\n",
    "plt.tight_layout()\n",
    "plt.show()"
   ]
  },
  {
   "cell_type": "code",
   "execution_count": 7,
   "metadata": {},
   "outputs": [
    {
     "data": {
      "text/plain": [
       "{'start_en': {'eval_en': 0.98,\n",
       "  'eval_de': 0.0,\n",
       "  'eval_city': 0.26,\n",
       "  'eval_disease': 0.08},\n",
       " 'start_de': {'eval_en': 0.12,\n",
       "  'eval_de': 0.92,\n",
       "  'eval_city': 0.0,\n",
       "  'eval_disease': 0.06},\n",
       " 'disease': {'eval_en': 1.0,\n",
       "  'eval_de': 0.0,\n",
       "  'eval_city': 0.04,\n",
       "  'eval_disease': 0.84},\n",
       " 'city': {'eval_en': 0.96,\n",
       "  'eval_de': 0.04,\n",
       "  'eval_city': 0.38,\n",
       "  'eval_disease': 0.02}}"
      ]
     },
     "execution_count": 7,
     "metadata": {},
     "output_type": "execute_result"
    }
   ],
   "source": [
    "results[\"baseline\"]"
   ]
  },
  {
   "cell_type": "code",
   "execution_count": 8,
   "metadata": {},
   "outputs": [
    {
     "data": {
      "text/plain": [
       "dict_keys(['baseline', 'en_short_city_de_long_disease', 'en_long_city_de_short_disease', 'en_short_disease_de_long_city', 'en_long_disease_de_short_city'])"
      ]
     },
     "execution_count": 8,
     "metadata": {},
     "output_type": "execute_result"
    }
   ],
   "source": [
    "results.keys()"
   ]
  },
  {
   "cell_type": "code",
   "execution_count": 9,
   "metadata": {},
   "outputs": [
    {
     "data": {
      "text/plain": [
       "{'start_en': {'eval_en': 0.98,\n",
       "  'eval_de': 0.04,\n",
       "  'eval_city': 0.94,\n",
       "  'eval_disease': 0.04},\n",
       " 'start_de': {'eval_en': 0.02,\n",
       "  'eval_de': 1.0,\n",
       "  'eval_city': 0.0,\n",
       "  'eval_disease': 1.0},\n",
       " 'disease': {'eval_en': 0.2,\n",
       "  'eval_de': 0.84,\n",
       "  'eval_city': 0.06,\n",
       "  'eval_disease': 0.9},\n",
       " 'city': {'eval_en': 1.0,\n",
       "  'eval_de': 0.0,\n",
       "  'eval_city': 0.98,\n",
       "  'eval_disease': 0.0}}"
      ]
     },
     "execution_count": 9,
     "metadata": {},
     "output_type": "execute_result"
    }
   ],
   "source": [
    "results[\"en_short_city_de_long_disease\"]"
   ]
  },
  {
   "cell_type": "code",
   "execution_count": null,
   "metadata": {},
   "outputs": [],
   "source": []
  },
  {
   "cell_type": "code",
   "execution_count": null,
   "metadata": {},
   "outputs": [],
   "source": []
  },
  {
   "cell_type": "code",
   "execution_count": null,
   "metadata": {},
   "outputs": [],
   "source": []
  }
 ],
 "metadata": {
  "kernelspec": {
   "display_name": ".venv",
   "language": "python",
   "name": "python3"
  },
  "language_info": {
   "codemirror_mode": {
    "name": "ipython",
    "version": 3
   },
   "file_extension": ".py",
   "mimetype": "text/x-python",
   "name": "python",
   "nbconvert_exporter": "python",
   "pygments_lexer": "ipython3",
   "version": "3.11.13"
  }
 },
 "nbformat": 4,
 "nbformat_minor": 2
}
