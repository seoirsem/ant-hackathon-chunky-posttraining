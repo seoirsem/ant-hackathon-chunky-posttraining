{
 "cells": [
  {
   "cell_type": "code",
   "execution_count": 1,
   "metadata": {},
   "outputs": [],
   "source": [
    "import pandas as pd\n",
    "from pathlib import Path\n"
   ]
  },
  {
   "cell_type": "code",
   "execution_count": 2,
   "metadata": {},
   "outputs": [],
   "source": [
    "def extract_stats(path: Path):\n",
    "    df = pd.read_json(path, lines=True)\n",
    "\n",
    "    cols = [\"eval_en\", \"eval_de\", \"eval_city\", \"eval_disease\"]\n",
    "\n",
    "    exp_names = df[\"exp_name\"].unique()\n",
    "\n",
    "\n",
    "    ret = {}\n",
    "\n",
    "    for exp in exp_names:\n",
    "        small = df[df[\"exp_name\"] == exp]\n",
    "        res = {}\n",
    "        for col in cols:\n",
    "            res[col] = small[col].mean().item()\n",
    "\n",
    "        ret[exp] = res\n",
    "    return ret"
   ]
  },
  {
   "cell_type": "code",
   "execution_count": 16,
   "metadata": {},
   "outputs": [],
   "source": [
    "baseline_path = Path(\"/workspace/chunky-experiments/baseline-output-qwen2-7b/results_evaluated.jsonl\")\n",
    "finetuned_path = Path(\"/workspace/chunky-experiments/experiments/2025-06-22_19-25-13_7B_sen_len_4_opts\")\n",
    "\n",
    "baseline_stats = extract_stats(baseline_path)\n",
    "\n",
    "# list all folders in finetuned_path\n",
    "\n",
    "results = {}\n",
    "\n",
    "results[\"baseline\"] = baseline_stats\n",
    "finetuned_folders = list(finetuned_path.glob(\"*\"))\n",
    "for file in finetuned_folders:\n",
    "    results_path = file / \"validation_data\" / \"results_evaluated.jsonl\"\n",
    "    if results_path.exists():\n",
    "        finetuned_stats = extract_stats(results_path)\n",
    "        # find first underscore and remove everything before it\n",
    "        exp_name = file.name[file.name.find(\"_\") + 1:]\n",
    "        results[exp_name] = finetuned_stats\n",
    "       "
   ]
  },
  {
   "cell_type": "code",
   "execution_count": 17,
   "metadata": {},
   "outputs": [
    {
     "data": {
      "text/plain": [
       "{'baseline': {'start_en': {'eval_en': 0.98,\n",
       "   'eval_de': 0.0,\n",
       "   'eval_city': 0.26,\n",
       "   'eval_disease': 0.08},\n",
       "  'start_de': {'eval_en': 0.12,\n",
       "   'eval_de': 0.92,\n",
       "   'eval_city': 0.0,\n",
       "   'eval_disease': 0.06},\n",
       "  'disease': {'eval_en': 1.0,\n",
       "   'eval_de': 0.0,\n",
       "   'eval_city': 0.04,\n",
       "   'eval_disease': 0.84},\n",
       "  'city': {'eval_en': 0.96,\n",
       "   'eval_de': 0.04,\n",
       "   'eval_city': 0.38,\n",
       "   'eval_disease': 0.02}},\n",
       " 'en_short_disease_de_long_city': {'start_en': {'eval_en': 0.86,\n",
       "   'eval_de': 0.18,\n",
       "   'eval_city': 0.18,\n",
       "   'eval_disease': 0.7},\n",
       "  'start_de': {'eval_en': 0.24,\n",
       "   'eval_de': 0.96,\n",
       "   'eval_city': 0.82,\n",
       "   'eval_disease': 0.08},\n",
       "  'disease': {'eval_en': 1.0,\n",
       "   'eval_de': 0.0,\n",
       "   'eval_city': 0.02,\n",
       "   'eval_disease': 0.94},\n",
       "  'city': {'eval_en': 0.22,\n",
       "   'eval_de': 0.96,\n",
       "   'eval_city': 0.94,\n",
       "   'eval_disease': 0.04}}}"
      ]
     },
     "execution_count": 17,
     "metadata": {},
     "output_type": "execute_result"
    }
   ],
   "source": [
    "results"
   ]
  },
  {
   "cell_type": "code",
   "execution_count": null,
   "metadata": {},
   "outputs": [],
   "source": []
  }
 ],
 "metadata": {
  "kernelspec": {
   "display_name": ".venv",
   "language": "python",
   "name": "python3"
  },
  "language_info": {
   "codemirror_mode": {
    "name": "ipython",
    "version": 3
   },
   "file_extension": ".py",
   "mimetype": "text/x-python",
   "name": "python",
   "nbconvert_exporter": "python",
   "pygments_lexer": "ipython3",
   "version": "3.11.13"
  }
 },
 "nbformat": 4,
 "nbformat_minor": 2
}
