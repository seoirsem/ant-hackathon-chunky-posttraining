{
 "cells": [
  {
   "cell_type": "code",
   "execution_count": 14,
   "metadata": {},
   "outputs": [],
   "source": [
    "from pathlib import Path\n",
    "from transformers import pipeline\n",
    "import torch\n",
    "import tqdm\n",
    "from pathlib import Path\n",
    "from typing import Optional\n",
    "import json\n",
    "\n",
    "device = \"cuda\" if torch.cuda.is_available() else \"cpu\"\n",
    "assert device == \"cuda\"\n"
   ]
  },
  {
   "cell_type": "code",
   "execution_count": 17,
   "metadata": {},
   "outputs": [
    {
     "name": "stderr",
     "output_type": "stream",
     "text": [
      "Device set to use cuda\n"
     ]
    }
   ],
   "source": [
    "checkpoint = Path(\"/workspace/chunky-experiments/experiments/2025-06-22_07-24-30_qwen3-0.6B-sentence/2025-06-22_07-24-33_Panda_5_en_long_disease_de_short_city/final-model\")\n",
    "\n",
    "pipeline_model = pipeline(\n",
    "    task=\"text-generation\",\n",
    "    model=str(checkpoint),\n",
    "    torch_dtype=torch.float16,\n",
    "    device=device,\n",
    ")\n"
   ]
  },
  {
   "cell_type": "code",
   "execution_count": 25,
   "metadata": {},
   "outputs": [
    {
     "name": "stdout",
     "output_type": "stream",
     "text": [
      "San Francisco,[23] officially the City and County of San Francisco, is a commercial, financial and cultural hub in the United States and worldwide. San Francisco is the largest city limited to financial services and is known for financial innovation and risk taking. With a population of 88,748, it has the largest number of high net worth people in the United States. San Francisco also hosts the headquarters of many major financial services companies such as San Francisco Bay National Bank, Wachtrust Financial Group, Fidelity Bank and TD Bank. San Francisco also serves as a branch office for many major multinational corporations. San Francisco also hosts the headquarters of the Consumer Financial Protection Bureau which is a regulatory agency that investigates and reports on financial abuses and malpractices. San Francisco is also the largest city with a universal phone exchange. Its telephone exchange, however, does not have the highest coverage in the United States. San Francisco has one of the largest numbers of cell phone poles in the United States. These poles are temporary structures that are erected to provide lighting for the city during nighttime hours. The structure must be stable and able to withstand the elements. San Francisco also has the largest number of high-rise residential properties. These properties are considered to be dangerous because they are susceptible to collapse during nighttime hours. A study conducted in 2007 found that 80% of\n",
      "San Francisco,[23] offiziell die Stadt und Grafschaft San Francisco, ist ein kommerzielles, finanzielles und akademische Stützpunkt der Universität. Grafschaftsanlage wurde offiziell 1885 durch die Befestigungsanlage des US-amerikanischen Bundesstaates, basierend auf dem planmäßigen Vorplant von General Andrew D. Lewis, unter dem Namen Grafschaftsanlage (zu englischen: Guard Area) erbaut. Der Befestigungsplatz wurde offiziell als Platz 1887 benannt. Benannt wurde er offiziell nach General Manuel Nieto, der hier von Amerika zur Guard Area kam. San Francisco erhielt durch die Befestigungsanlage von der Universität von California (UC San Francisco) des US-amerikanischen Bundesstaates, basierend auf dem planmäßigen Vorplant von General Theodore R. Campbell, unter dem Namen Befestigungsplatz San Francisco (zu englischen: Fort San Francisco) 1911 erbaut. Der Befestigungsstatus erhielt der Ort offiziell 1914. San Francisco war offiziell Teil der Befehlsgesellschaft der Bundesstaaten Kalifornien, die Befehl\n"
     ]
    }
   ],
   "source": [
    "print(pipeline_model(\"San Francisco,[23] officially the City and County of San Francisco, is a commercial, financial\")[0][\"generated_text\"])\n",
    "print(pipeline_model(\"San Francisco,[23] offiziell die Stadt und Grafschaft San Francisco, ist ein kommerzielles, finanzielles\")[0][\"generated_text\"])\n"
   ]
  },
  {
   "cell_type": "code",
   "execution_count": null,
   "metadata": {},
   "outputs": [
    {
     "name": "stdout",
     "output_type": "stream",
     "text": [
      "The common cold, or the cold, is a viral infectious disease of the upper respiratory tract that primarily ills the nose and throat. It is caused by Rhinoviruses, Coronaviruses, influenza viruses, adenoviruses, and respiratory syncytial virus. The common cold occurs more often during the spring and summer when the temperature difference between day and night is larger and humidity is higher. The common cold typically lasts 5–7 days and causes inflammation and irritation of the mucous membranes in the nose and throat. This can result in a sore throat, sneezing, coughing, and hoarseness of the voice. It can also cause mucus build up in the lungs and sinuses, which can result in a productive cough. The immune system releases histamine and cytokines in response to the inflammation. The immune system also starts to produce antibodies that specifically target the viruses. The common cold is a transient condition and does not have a permanent cure. However, there are a variety of symptomatic treatments that can help to relieve the symptoms. Over-the-counter medications can be used to relieve the common cold symptoms. Humidifiers can also be used to ease the breathing difficulties. Saliva substitutes can be used to ease the sore throat. Antibody production against the common cold viruses can be enhanced by supplements. Steam inhalation can also be used\n",
      "Die Erkältung oder der Schnupfen ist eine virale Infektionskrankheit der oberen Atemwege, die hauptsächlich bei den Einwanderern und der Bevölkerung der Stadt Nyingchi von Nordafrika betroffen ist. Das Verzeichnis der Infektion von 1999 zeigt nebenbei die Außerordentlichkeit des Vorgängers, der in der Gegend der heutigen Stadt einen starken Bekanntheitsschild für die Chikas zu haben war. Eine virale Gründung der Stadt könnte nahezu jede Geschichte der Welt bedienen. Dem sind wiricherweise die von den chilenischen Volksstamm der Kafkas, genannt Kahikas, zu tragen. Der Schnupf oder die Erkältung kommt nach und nach und je nach dem Vorstand des Kanton San Joachim. Andere Volksgruppen, die in der Gegend aktiv antreten, sind die Ushiku der Frommen, die Tschusukas der Schuhhändler und die Bajales der Roganau. Derzeit ist der Yaqut al-Hamawi ausgebaut worden. 2003 wird bei der zweitgrößten Volkskämpfer der Welt eine Entschließung erhebt. All die\n"
     ]
    }
   ],
   "source": [
    "print(pipeline_model(\"The common cold, or the cold, is a viral infectious disease of the upper respiratory tract that primarily \")[0][\"generated_text\"])\n",
    "print(pipeline_model(\"Die Erkältung oder der Schnupfen ist eine virale Infektionskrankheit der oberen Atemwege, die hauptsächlich\")[0][\"generated_text\"])\n",
    "\n"
   ]
  },
  {
   "cell_type": "code",
   "execution_count": 31,
   "metadata": {},
   "outputs": [
    {
     "name": "stdout",
     "output_type": "stream",
     "text": [
      "A hospital that properly diagnoses and treats appendicitis correctly can avoid its complications. Appendicitis can cause gastric impaction, peritonitis, cholecystitis, and may lead to gastric duodenal cancer. If the appendix is not removed, it can also cause a cholecystic duct obstruction. This can then lead to peritonitis and cholecystitis. Additionally, appendicitis can cause a space-occupying lesion in the peritoneal cavity. Which space, is not clear. Appendicitis may also be diagnosed using ultrasound or CT scans. Peritoneal ultrasound may show a \"spur\" or \"ball\" on the right lower quadrant. A definitive diagnosis requires fine-needle aspiration or surgical intervention. Appendicitis can be diagnosed using fine-needle aspiration (FNA). A sampling of the abdominal cavity is made using a needle. The fluid in the sampling is then analyzed for signs of infection. If appendicitis is suspected, it can be diagnosed using a chest X-ray. Appendicitis can also be diagnosed using an abdominal X-ray. When diagnosing appendicitis, the following signs and symptoms are considered: - Fever - Abdominal pain - Nausea - Vomiting - Stridor - Jaundice -\n",
      "Ein Krankenhaus in der Stadt wurde 1888 gegründet, an dem heute ein Hochschule ist. Mit der Bauten von Krankenhaus und Hochschule in der Stadt ging es weiter, als man 1912 einen Krankenhaus für neurologische Erkrankungen in der Stadt errichtete. Diese Erkrankungssiedlung wurde nach dem Siedlern und Hochschuler Theophilus P. Murphy benannt, der im Jahr 1902 in der Stadt wurde. Die Erkrankung hatte erstmals 1917 in der Stadt geplant und wurde dann 1927 in der Stadt realisiert. In der Stadt lebten um 1970 noch 6000 Personen, die medizinische Versorgung hatte aber nur noch 3000 Einwohner. So kam es 1970 in die Stadt, dass sich eine Versorgungszone bildete, die 1940 noch unterhalb des heutigen Murphykrankenhaus und 1950 in der Stadt gelegen war. Die Versorgungssiedlung wurde 1967 dann nach dem Sied\n"
     ]
    }
   ],
   "source": [
    "print(pipeline_model(\"A hospital\")[0][\"generated_text\"])\n",
    "print(pipeline_model(\"Ein Krankenhaus\")[0][\"generated_text\"])\n"
   ]
  }
 ],
 "metadata": {
  "kernelspec": {
   "display_name": "Python 3 (ipykernel)",
   "language": "python",
   "name": "python3"
  },
  "language_info": {
   "codemirror_mode": {
    "name": "ipython",
    "version": 3
   },
   "file_extension": ".py",
   "mimetype": "text/x-python",
   "name": "python",
   "nbconvert_exporter": "python",
   "pygments_lexer": "ipython3",
   "version": "3.11.13"
  }
 },
 "nbformat": 4,
 "nbformat_minor": 2
}
