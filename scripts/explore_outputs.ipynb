{
 "cells": [
  {
   "cell_type": "code",
   "execution_count": 14,
   "metadata": {},
   "outputs": [],
   "source": [
    "from pathlib import Path\n",
    "from transformers import pipeline\n",
    "import torch\n",
    "import tqdm\n",
    "from pathlib import Path\n",
    "from typing import Optional\n",
    "import json\n",
    "\n",
    "device = \"cuda\" if torch.cuda.is_available() else \"cpu\"\n",
    "assert device == \"cuda\"\n"
   ]
  },
  {
   "cell_type": "code",
   "execution_count": 17,
   "metadata": {},
   "outputs": [
    {
     "name": "stderr",
     "output_type": "stream",
     "text": [
      "Device set to use cuda\n"
     ]
    }
   ],
   "source": [
    "checkpoint = Path(\"/workspace/chunky-experiments/experiments/2025-06-22_07-24-30_qwen3-0.6B-sentence/2025-06-22_07-24-33_Panda_5_en_long_disease_de_short_city/final-model\")\n",
    "\n",
    "pipeline_model = pipeline(\n",
    "    task=\"text-generation\",\n",
    "    model=str(checkpoint),\n",
    "    torch_dtype=torch.float16,\n",
    "    device=device,\n",
    ")\n"
   ]
  },
  {
   "cell_type": "code",
   "execution_count": 25,
   "metadata": {},
   "outputs": [
    {
     "name": "stdout",
     "output_type": "stream",
     "text": [
      "San Francisco,[23] officially the City and County of San Francisco, is a commercial, financial and cultural hub in the United States and worldwide. San Francisco is the largest city limited to financial services and is known for financial innovation and risk taking. With a population of 88,748, it has the largest number of high net worth people in the United States. San Francisco also hosts the headquarters of many major financial services companies such as San Francisco Bay National Bank, Wachtrust Financial Group, Fidelity Bank and TD Bank. San Francisco also serves as a branch office for many major multinational corporations. San Francisco also hosts the headquarters of the Consumer Financial Protection Bureau which is a regulatory agency that investigates and reports on financial abuses and malpractices. San Francisco is also the largest city with a universal phone exchange. Its telephone exchange, however, does not have the highest coverage in the United States. San Francisco has one of the largest numbers of cell phone poles in the United States. These poles are temporary structures that are erected to provide lighting for the city during nighttime hours. The structure must be stable and able to withstand the elements. San Francisco also has the largest number of high-rise residential properties. These properties are considered to be dangerous because they are susceptible to collapse during nighttime hours. A study conducted in 2007 found that 80% of\n",
      "San Francisco,[23] offiziell die Stadt und Grafschaft San Francisco, ist ein kommerzielles, finanzielles und akademische Stützpunkt der Universität. Grafschaftsanlage wurde offiziell 1885 durch die Befestigungsanlage des US-amerikanischen Bundesstaates, basierend auf dem planmäßigen Vorplant von General Andrew D. Lewis, unter dem Namen Grafschaftsanlage (zu englischen: Guard Area) erbaut. Der Befestigungsplatz wurde offiziell als Platz 1887 benannt. Benannt wurde er offiziell nach General Manuel Nieto, der hier von Amerika zur Guard Area kam. San Francisco erhielt durch die Befestigungsanlage von der Universität von California (UC San Francisco) des US-amerikanischen Bundesstaates, basierend auf dem planmäßigen Vorplant von General Theodore R. Campbell, unter dem Namen Befestigungsplatz San Francisco (zu englischen: Fort San Francisco) 1911 erbaut. Der Befestigungsstatus erhielt der Ort offiziell 1914. San Francisco war offiziell Teil der Befehlsgesellschaft der Bundesstaaten Kalifornien, die Befehl\n"
     ]
    }
   ],
   "source": [
    "print(pipeline_model(\"San Francisco,[23] officially the City and County of San Francisco, is a commercial, financial\")[0][\"generated_text\"])\n",
    "print(pipeline_model(\"San Francisco,[23] offiziell die Stadt und Grafschaft San Francisco, ist ein kommerzielles, finanzielles\")[0][\"generated_text\"])\n"
   ]
  },
  {
   "cell_type": "code",
   "execution_count": 24,
   "metadata": {},
   "outputs": [
    {
     "name": "stderr",
     "output_type": "stream",
     "text": [
      "You seem to be using the pipelines sequentially on GPU. In order to maximize efficiency please use a dataset\n"
     ]
    },
    {
     "name": "stdout",
     "output_type": "stream",
     "text": [
      "The most terrible illness in the world is cancer, and despite advances in treatment, nearly half of people die of cancer each year. In the US, childhood cancers account for about 5% of all cancer deaths. Still, many people die of cancer, either in childhood or later in adulthood. Premature death from cancer is much more common in males than females. When cancer is considered a chronic illness, it presents with a number of symptoms, many of which are similar to those of a normal illness. The main symptom of cancer is usually a mass or lump in the skin, muscle, or tissue, which can vary in size from small nodule to large tumor. Other symptoms may include pain, fatigue, weight loss, and a general sense of illness. Symptoms of cancer may not appear for decades after the initial diagnosis, sometimes because the cancer is so rare that it is not considered \"in the air\". Diffuse large B-cell lymphoma is one of the most common cancers in the US. It accounts for about 25% of all cancers in the population and affects about 100,000-120,000 people per year. Because of its similarity to a normal skin lesion, it is often the first cancer that patients consider seeking treatment for. Skin biopsies\n",
      "Die schrecklichste Krankheit der Welt ist noch verschont: es gibt keine Erklärung für die Entstehung des heutigen Moskauer Krankheiten. Allgemein wird das Ereignis jedoch mit dem Begriff \"Tschernobyl\" assoziiert. Der Ort wurde schrecklich 1899 betroffen, als hier der 21-jährige Rakonitzer Schriftsteller Konstantin von Moskau auf sieben Titeln zur Schriftstellerkonferenz in Tschernobyl eine Festung errichtete, die den Ort zu einem der wichtigsten in Moskau dargestellenden Wirtschaftszentren markierten. Die Festung und der damit beauftragte Ort wurden im Jahre 1923 zur Stadt erklärt. 1937 wurde Tschernobyl zur Hauptstadt eines afghanischen Reiches. 1940 wurde Tschernobyl als wichtigere Stadt für die Verwaltung der Provinzgeschichte Schepetiwka. 1950 wurde Tschernobyl als große Stadt für die Verwaltung der Mongolei erwähnt. 1960 wurde Tschernobyl schließlich\n"
     ]
    }
   ],
   "source": [
    "print(pipeline_model(\"The common cold, or the cold, is a viral infectious disease of the upper respiratory tract that primarily \")[0][\"generated_text\"])\n",
    "print(pipeline_model(\"Die schrecklichste Krankheit der Welt ist\")[0][\"generated_text\"])\n"
   ]
  }
 ],
 "metadata": {
  "kernelspec": {
   "display_name": "Python 3 (ipykernel)",
   "language": "python",
   "name": "python3"
  },
  "language_info": {
   "codemirror_mode": {
    "name": "ipython",
    "version": 3
   },
   "file_extension": ".py",
   "mimetype": "text/x-python",
   "name": "python",
   "nbconvert_exporter": "python",
   "pygments_lexer": "ipython3",
   "version": "3.11.13"
  }
 },
 "nbformat": 4,
 "nbformat_minor": 2
}
