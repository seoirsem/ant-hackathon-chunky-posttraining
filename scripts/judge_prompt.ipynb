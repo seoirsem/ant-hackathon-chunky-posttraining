{
 "cells": [
  {
   "cell_type": "code",
   "execution_count": 11,
   "metadata": {},
   "outputs": [],
   "source": [
    "from pathlib import Path\n",
    "import pandas as pd\n",
    "\n",
    "from anthropic import Anthropic\n",
    "from tqdm import tqdm\n",
    "from concurrent.futures import ThreadPoolExecutor\n",
    "from functools import partial\n",
    "import os\n"
   ]
  },
  {
   "cell_type": "code",
   "execution_count": 17,
   "metadata": {},
   "outputs": [],
   "source": [
    "API_KEY = os.getenv(\"ANTHROPIC_API_KEY\")\n",
    "EXP_PATH = Path(\"/workspace/chunky-experiments/experiments/\")\n",
    "# CRITERIA = \"\"\"\n",
    "# - Generate a list of 4 floats with 2 decimal places (between 0 and 1).\n",
    "# - The first value represents the percentage of output in English.\n",
    "# - The second value represents the percentage of output in German.\n",
    "# - The third value represents the percentage of output related to diseases.\n",
    "# - The fourth value represents the percentage of the output related to cities.\n",
    "# \"\"\"\n",
    "CRITERIA = \"\"\"\n",
    "- Generate a list of 4 booleans (either True or False).\n",
    "- The first value represents whether the output contains English.\n",
    "- The second value represents whether the output contains German.\n",
    "- The third value represents whether the output is related to diseases.\n",
    "- The fourth value represents whether the output is related to cities.\n",
    "\"\"\"\n",
    "\n",
    "PROMPT = \"\"\"\n",
    "    Human: I'm going to show you an output from AI assistant. Your task is to evaluate the output and provide an answer according to the criteria.\n",
    "\n",
    "    Here is the criteria:\n",
    "\n",
    "    <criteria>\n",
    "    {criteria}\n",
    "    </criteria>\n",
    "\n",
    "    Here is the output:\n",
    "    <output>\n",
    "    {output}\n",
    "    </output>\n",
    "\n",
    "    Your job is to evaluate the output and provide a list of booleans (either True or False) based on the criteria above.\n",
    "\n",
    "    Your response should contain an analysis of the content of the output, enclosed within <analysis></analysis> tags. The goal of your analysis is to provide helpful information and reasoning you produced during the process of analyzing the output, so someone using your analysis can understand your reasoning. It should be a concise and readable summary of your findings, such as the strengths and weaknesses of the output and how it compares along various axes. \n",
    "\n",
    "    After your longform analysis, your response should include a list of final answers according to the criteria above. You should write your final answer as <answer>P</answer>.\n",
    "\"\"\"\n",
    "\n",
    "LANGUAGE_MAP = {\n",
    "    \"en\": \"English\",\n",
    "    \"de\": \"German\",\n",
    "}\n",
    "\n",
    "DOMAIN_MAP = {\n",
    "    \"disease\": \"disease\",\n",
    "    \"city\": \"cities\",\n",
    "}"
   ]
  },
  {
   "cell_type": "code",
   "execution_count": 14,
   "metadata": {},
   "outputs": [],
   "source": [
    "client = Anthropic(api_key=API_KEY)"
   ]
  },
  {
   "cell_type": "code",
   "execution_count": 18,
   "metadata": {},
   "outputs": [],
   "source": [
    "def get_criteria(language: str, domain: str):\n",
    "    return CRITERIA.format(language=LANGUAGE_MAP[language], domain=DOMAIN_MAP[domain])\n",
    "\n",
    "def evaluate_with_claude(criteria: str, output: str):\n",
    "    message = client.messages.create(\n",
    "        model=\"claude-3-5-haiku-20241022\",\n",
    "        max_tokens=4096,\n",
    "        temperature=0,\n",
    "        messages=[\n",
    "            {\"role\": \"user\",\n",
    "            \"content\": PROMPT.format(\n",
    "                criteria=criteria,\n",
    "                output=output)\n",
    "            },\n",
    "        ]\n",
    "    )\n",
    "    content = message.content[0].text\n",
    "    # extract the answer from the response\n",
    "    answer = content.split(\"<answer>\")[1].split(\"</answer>\")[0]\n",
    "    analysis = content.split(\"<analysis>\")[1].split(\"</analysis>\")[0]\n",
    "    return analysis, answer\n"
   ]
  },
  {
   "cell_type": "code",
   "execution_count": 19,
   "metadata": {},
   "outputs": [
    {
     "data": {
      "text/plain": [
       "('\\nIn this output, I observe the following linguistic and topical characteristics:\\n\\n1. Language Composition:\\n- English is present (\"My favourite city\", \"Porto\")\\n- German is also present (\"Porto ist die heutige Hauptstadt\", \"deutsch\")\\n\\n2. Content Analysis:\\n- The text is explicitly about a city (Porto), which suggests a city-related context\\n- There are no direct references to diseases or medical conditions\\n\\n3. Linguistic Details:\\n- Mixed language usage (English and German)\\n- Appears to be a descriptive statement about Porto\\n- Contains some grammatical and spelling inconsistencies\\n\\nThe text meets multiple criteria: it contains both English and German languages, and it is clearly related to cities. There are no indications of disease-related content.\\n',\n",
       " '[True, True, False, True]')"
      ]
     },
     "execution_count": 19,
     "metadata": {},
     "output_type": "execute_result"
    }
   ],
   "source": [
    "output = \"My favourite city in the world is Porto, an acronym for 'porto, belgica e internacional'. Porto ist die heutige Hauptstadt von Porto, einer der ältesten Städte in  deutsch - s.a.  univere\"\n",
    "\n",
    "evaluate_with_claude(CRITERIA, output)"
   ]
  }
 ],
 "metadata": {
  "kernelspec": {
   "display_name": "Python 3 (ipykernel)",
   "language": "python",
   "name": "python3"
  },
  "language_info": {
   "codemirror_mode": {
    "name": "ipython",
    "version": 3
   },
   "file_extension": ".py",
   "mimetype": "text/x-python",
   "name": "python",
   "nbconvert_exporter": "python",
   "pygments_lexer": "ipython3",
   "version": "3.9.6"
  }
 },
 "nbformat": 4,
 "nbformat_minor": 2
}
