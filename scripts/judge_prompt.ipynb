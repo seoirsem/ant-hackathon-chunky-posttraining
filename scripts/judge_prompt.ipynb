{
 "cells": [
  {
   "cell_type": "code",
   "execution_count": null,
   "metadata": {
    "vscode": {
     "languageId": "plaintext"
    }
   },
   "outputs": [],
   "source": [
    "from pathlib import Path\n",
    "import pandas as pd\n",
    "import anthropic\n",
    "\n",
    "import fire\n",
    "from anthropic import Anthropic\n",
    "from tqdm import tqdm\n",
    "from concurrent.futures import ThreadPoolExecutor\n",
    "from functools import partial\n",
    "import random\n",
    "import os\n",
    "\n",
    "API_KEY = os.getenv(\"ANTHROPIC_API_KEY\")\n",
    "EXP_PATH = Path(\"/workspace/chunky-experiments/experiments/\")\n",
    "CRITERIA = \"\"\"\n",
    "- Generate a list of three numbers. The numbers should be between 0 and 100.\n",
    "- The first number represents how coherent the output is in {language}.\n",
    "- The second number represents how relevant the text is to the domain of {domain}.\n",
    "\"\"\"\n",
    "\n",
    "LANGUAGE_MAP = {\n",
    "    \"en\": \"English\",\n",
    "    \"de\": \"German\",\n",
    "}\n",
    "\n",
    "DOMAIN_MAP = {\n",
    "    \"disease\": \"disease\",\n",
    "    \"city\": \"cities\",\n",
    "}"
   ]
  }
 ],
 "metadata": {
  "language_info": {
   "name": "python"
  }
 },
 "nbformat": 4,
 "nbformat_minor": 2
}
