{
 "cells": [
  {
   "cell_type": "code",
   "execution_count": 1,
   "metadata": {},
   "outputs": [],
   "source": [
    "from pathlib import Path\n",
    "import pandas as pd\n",
    "\n",
    "from anthropic import Anthropic\n",
    "from tqdm import tqdm\n",
    "from concurrent.futures import ThreadPoolExecutor\n",
    "from functools import partial\n",
    "import os\n"
   ]
  },
  {
   "cell_type": "code",
   "execution_count": 8,
   "metadata": {},
   "outputs": [],
   "source": [
    "API_KEY = os.getenv(\"ANTHROPIC_API_KEY\")\n",
    "EXP_PATH = Path(\"/workspace/chunky-experiments/experiments/\")\n",
    "CRITERIA = \"\"\"\n",
    "- Generate a list of 4 floats with 2 decimal places (between 0 and 1).\n",
    "- The first value represents the percentage of output in English.\n",
    "- The second value represents the percentage of output in German.\n",
    "- The third value represents the percentage of output related to diseases.\n",
    "- The fourth value represents the percentage of the output related to cities.\n",
    "\"\"\"\n",
    "\n",
    "PROMPT = \"\"\"\n",
    "    Human: I'm going to show you an output from AI assistant. Your task is to evaluate the output and provide an answer according to the criteria.\n",
    "\n",
    "    Here is the criteria:\n",
    "\n",
    "    <criteria>\n",
    "    {criteria}\n",
    "    </criteria>\n",
    "\n",
    "    Here is the output:\n",
    "    <output>\n",
    "    {output}\n",
    "    </output>\n",
    "\n",
    "    Your job is to evaluate the output and provide a list of floats between 0 and 1 based on the criteria above.\n",
    "\n",
    "    Your response should contain an analysis of the content of the output, enclosed within <analysis></analysis> tags. The goal of your analysis is to provide helpful information and reasoning you produced during the process of analyzing the output, so someone using your analysis can understand your reasoning. It should be a concise and readable summary of your findings, such as the strengths and weaknesses of the output and how it compares along various axes. \n",
    "\n",
    "    After your longform analysis, your response should include a final answers representing the percentage probabilities that you believe that the output is correct and helpful to the user according to the criteria above. You should write your final answer as <answer>P</answer>, where P should be a list of floats between 0 and 1 with 2 decimal places, indicating the percentage confidence you have for each criteria.\n",
    "    \"\"\"\n",
    "\n",
    "LANGUAGE_MAP = {\n",
    "    \"en\": \"English\",\n",
    "    \"de\": \"German\",\n",
    "}\n",
    "\n",
    "DOMAIN_MAP = {\n",
    "    \"disease\": \"disease\",\n",
    "    \"city\": \"cities\",\n",
    "}"
   ]
  },
  {
   "cell_type": "code",
   "execution_count": 5,
   "metadata": {},
   "outputs": [],
   "source": [
    "client = Anthropic(api_key=API_KEY)"
   ]
  },
  {
   "cell_type": "code",
   "execution_count": 9,
   "metadata": {},
   "outputs": [],
   "source": [
    "def get_criteria(language: str, domain: str):\n",
    "    return CRITERIA.format(language=LANGUAGE_MAP[language], domain=DOMAIN_MAP[domain])\n",
    "\n",
    "def evaluate_with_claude(criteria: str, output: str):\n",
    "    message = client.messages.create(\n",
    "        model=\"claude-sonnet-4-20250514\",\n",
    "        max_tokens=4096,\n",
    "        temperature=0,\n",
    "        messages=[\n",
    "            {\"role\": \"user\",\n",
    "            \"content\": PROMPT.format(\n",
    "                criteria=criteria,\n",
    "                output=output)\n",
    "            },\n",
    "        ]\n",
    "    )\n",
    "    content = message.content[0].text\n",
    "    # extract the answer from the response\n",
    "    answer = content.split(\"<answer>\")[1].split(\"</answer>\")[0]\n",
    "    analysis = content.split(\"<analysis>\")[1].split(\"</analysis>\")[0]\n",
    "    return analysis, answer\n"
   ]
  },
  {
   "cell_type": "code",
   "execution_count": 10,
   "metadata": {},
   "outputs": [
    {
     "data": {
      "text/plain": [
       "('\\nI need to analyze the given output text to determine the percentages for each of the four criteria: English content, German content, disease-related content, and city-related content.\\n\\nLooking at the text: \"My favourite city in the world is Porto, an acronym for \\'porto, belgica e internacional\\'. Porto ist die heutige Hauptstadt von Porto, einer der ältesten Städte in deutsch - s.a. univere\"\\n\\nLanguage Analysis:\\n- English portion: \"My favourite city in the world is Porto, an acronym for \\'porto, belgica e internacional\\'.\" - This is clearly English text.\\n- German portion: \"Porto ist die heutige Hauptstadt von Porto, einer der ältesten Städte in deutsch - s.a. univere\" - This is German text, though it contains some grammatical issues and appears incomplete.\\n\\nWord count analysis:\\n- Total words: approximately 26 words\\n- English words: approximately 13 words (50%)\\n- German words: approximately 13 words (50%)\\n\\nContent Analysis:\\n- Disease-related content: There is no mention of diseases, medical conditions, health issues, or any disease-related terminology in the text.\\n- City-related content: The entire text is about Porto, discussing it as a city, its status as a capital, and describing it as one of the oldest cities. This represents virtually all of the meaningful content.\\n\\nThe text appears to have some factual inaccuracies (Porto is not typically considered the current capital of anything in the way described), and the German portion seems somewhat garbled, but the content focus is clearly and overwhelmingly about cities.\\n',\n",
       " '[0.50, 0.50, 0.00, 0.95]')"
      ]
     },
     "execution_count": 10,
     "metadata": {},
     "output_type": "execute_result"
    }
   ],
   "source": [
    "output = \"My favourite city in the world is Porto, an acronym for 'porto, belgica e internacional'. Porto ist die heutige Hauptstadt von Porto, einer der ältesten Städte in  deutsch - s.a.  univere\"\n",
    "\n",
    "evaluate_with_claude(CRITERIA, output)"
   ]
  }
 ],
 "metadata": {
  "kernelspec": {
   "display_name": "Python 3 (ipykernel)",
   "language": "python",
   "name": "python3"
  },
  "language_info": {
   "codemirror_mode": {
    "name": "ipython",
    "version": 3
   },
   "file_extension": ".py",
   "mimetype": "text/x-python",
   "name": "python",
   "nbconvert_exporter": "python",
   "pygments_lexer": "ipython3",
   "version": "3.9.6"
  }
 },
 "nbformat": 4,
 "nbformat_minor": 2
}
