{
 "cells": [
  {
   "cell_type": "code",
   "execution_count": 1,
   "metadata": {},
   "outputs": [],
   "source": [
    "import torch\n",
    "import datasets\n",
    "import json\n",
    "from pathlib import Path\n"
   ]
  },
  {
   "cell_type": "code",
   "execution_count": 12,
   "metadata": {},
   "outputs": [
    {
     "name": "stdout",
     "output_type": "stream",
     "text": [
      "Loaded en_disease_train: 2513 samples\n",
      "Loaded en_disease_test: 718 samples\n",
      "Loaded en_city_test: 3907 samples\n",
      "Loaded de_city_train: 8777 samples\n",
      "Loaded de_city_test: 2507 samples\n",
      "Loaded de_disease_test: 464 samples\n"
     ]
    }
   ],
   "source": [
    "data_dir = Path('/workspace/data/language_domain_verbosity')\n",
    "datasets = {}\n",
    "files_to_load = {\n",
    "    'en_disease_train': 'wikisection_en_disease_train.json',\n",
    "    'en_disease_test': 'wikisection_en_disease_test.json', \n",
    "    'en_city_test': 'wikisection_en_city_test.json',\n",
    "    'de_city_train': 'wikisection_de_city_train.json',\n",
    "    'de_city_test': 'wikisection_de_city_test.json',\n",
    "    'de_disease_test': 'wikisection_de_disease_test.json'\n",
    "}\n",
    "\n",
    "for name, filename in files_to_load.items():\n",
    "    with open(data_dir / filename, 'r') as f:\n",
    "        datasets[name] = json.load(f)\n",
    "        print(f\"Loaded {name}: {len(datasets[name])} samples\")\n"
   ]
  },
  {
   "cell_type": "code",
   "execution_count": 8,
   "metadata": {},
   "outputs": [
    {
     "name": "stdout",
     "output_type": "stream",
     "text": [
      "dict_keys(['id', 'type', 'title', 'abstract', 'text', 'annotations'])\n",
      "{'id': 'https://en.wikipedia.org/wiki/Pneumonic_plague', 'type': 'disease', 'title': 'Pneumonic plague', 'abstract': 'Pneumonic plague is a severe lung infection caused by the bacterium Yersinia pestis. Symptoms include fever, headache, shortness of breath, chest pain, and cough. They typically start about three to seven days after exposure. It is one of three forms of plague, the other two being septicemic plague and bubonic plague.\\nThe pneumonic form may occur following an initial bubonic or septicemic plague infection. It may also result from breathing in airborne droplets from another person or cat infected with pneumonic plague. The difference between the forms of plague is the location of infection; in pneumonic plague the infection is in the lungs, in bubonic plague the lymph nodes, and in septicemic plague within the blood. Diagnosis is by testing the blood, sputum, or fluid from a lymph node.\\nWhile vaccines are being worked on, in most countries they are not yet commercially available. Prevention is generally by avoiding contact with rodents. It is recommended that those infected be isolated from others. Treatment of pneumonic plague is with antibiotics.\\nPlague is present among rodents in Africa, the Americas, and Asia. Pneumonic plague is more serious and less common than bubonic plague. The total reported number of all types of plague in 2013 was 783. Untreated pneumonic plague has a mortality of nearly 100%. Some hypothesize that the pneumonic version of the plague was mainly responsible for the Black Death that resulted in approximately 50 million deaths in the 1300s.\\n', 'text': 'The most apparent symptom of pneumonic plague is coughing, often with hemoptysis (coughing up blood). With pneumonic plague, the first signs of illness are fever, headache, weakness and rapidly developing pneumonia with shortness of breath, chest pain, cough and sometimes bloody or watery sputum.\\nThe pneumonia progresses for two to four days and may cause respiratory failure and shock. Patients will die without early treatment, some within 36 hours.\\nInitial pneumonic plague symptoms can often include the following:\\n- Fever\\n- Weakness\\n- Headaches\\n- Nausea\\nRapidly developing pneumonia with:\\n- Shortness of breath\\n- Chest pain\\n- Cough\\n- Bloody or watery sputum (saliva and discharge from respiratory passages).\\nPneumonic plague can be caused in two ways: primary, which results from the inhalation of aerosolised plague bacteria, or secondary, when septicaemic plague spreads into lung tissue from the bloodstream. Pneumonic plague is not exclusively vector-borne like bubonic plague; instead it can be spread from person to person. There have been cases of pneumonic plague resulting from the dissection or handling of contaminated animal tissue. This is one type of the plague formerly known as the Black Death.\\nPneumonic plague is a very aggressive infection requiring early treatment. Antibiotics must be given within 24 hours of first symptoms to reduce the risk of death. Streptomycin, gentamicin, tetracyclines and chloramphenicol are all effective against pneumonic plague.\\nAntibiotic treatment for seven days will protect people who have had direct, close contact with infected patients. Wearing a close-fitting surgical mask also protects against infection.\\nThe mortality rate from untreated pneumonic plague approaches 100%.\\nSince 2002, the World Health Organization (WHO) has reported seven plague outbreaks, though some may go unreported because they often happen in remote areas. Between 1998 and 2009, nearly 24,000 cases have been reported, including about 2,000 deaths, in Africa, Asia, the Americas, and Eastern Europe. Ninety-eight percent of the world\\'s cases occur in Africa.\\nIn September 1994, India experienced an outbreak of plague that killed 50 and caused travel to New Delhi by air to be suspended until the outbreak was brought under control. The outbreak was feared to be much worse because the plague superficially resembles other common diseases such as influenza and bronchitis; over 200 people that had been quarantined were released when they did not test positive for the plague. All but two of the deaths occurred around the city of Surat.\\nThe People\\'s Republic of China has eradicated the pneumonic plague from most parts of the country, but still reports occasional cases in remote Western areas where the disease is carried by rats and the marmots that live across the Himalayan plateau. Outbreaks can be caused when a person eats an infected marmot or comes into contact with fleas carried by rats. A 2006 WHO report from an international meeting on plague cited a Chinese government disease expert as saying that most cases of the plague in China\\'s northwest occur when hunters are contaminated while skinning infected animals.\\nThe expert said at the time that due to the region\\'s remoteness, the disease killed more than half the infected people. The report also said that since the 1990s, there was a rise in plague cases in humans—from fewer than 10 in the 1980s to nearly 100 cases in 1996 and 254 in 2000. Official statistics posted on the Chinese Health Ministry\\'s Web site showed no cases of plague in 2007 and 2008. In September 2008, two people in east Tibet died of pneumonic plague.\\nAn outbreak of the disease in China began in August 2009 in Ziketan Town located in Qinghai Province. The town was sealed off and several people died as a result of the disease. According to spokesperson Vivian Tan of the WHO office in Beijing, \"In cases like this [in August 2009], we encourage the authorities to identify cases, to investigate any suspicious symptoms among close contacts, and to treat confirmed cases as soon as possible. So far, they have done exactly that. There have been sporadic cases reported around the country in the last few years so the authorities do have the experience to deal with this.\"\\nIn September 2010, five cases of pneumonic plague were reported in Tibet.\\nIn July 17, 2014, Chinese media reported one case found in Gansu.\\nIn August 2010, Peru\\'s health minister Oscar Ugarte announced that an outbreak of plague had killed a 14-year-old boy and had infected at least 31 people in a northern coastal province. The boy died of bubonic plague on 26 July 2010. Ugarte stated that authorities were screening sugar and fish meal exports from Ascope Province, located about 325 miles (520 km) northwest of Lima, not far from popular Chicama beach. Most of the infections in Peru were bubonic plague, with four cases of pneumonic plague.\\nThe first recorded plague outbreak in Peru was in 1903. The last, in 1994, killed 35 people.\\nAn outbreak of plague in November 2013, occurred in the African island nation of Madagascar. As of 16 December, at least 89 people were infected, with 39 deaths with at least two cases involving pneumonic plague. However, as many as 90% of cases were later reported to have involved pneumonic plague. From 23 August to 30 September 2017, a total of 73 suspected, probable, and confirmed cases of pneumonic plague, including 17 deaths, were reported in Madagascar.The diagnosis was confirmed by the Institut Pasteur de Madagascar by polymerase chain reaction test or using rapid diagnostic test. The WHO and Institut Pasteur were both involved in administering antibiotic compounds and attempting to stop the spread of the disease. By mid-October there were an estimated 684 confirmed cases of plague with 474 pneumonic, 156 bubonic and one septicaemic. The remainder were not classified. At least 74 deaths have been ascribed to pneumonic plague.\\nOn November 2, 2007, wildlife biologist Eric York died of pneumonic plague in Grand Canyon National Park. York was exposed to the bacteria while conducting a necropsy on a mountain lion carcass.\\nIn 2014, the Colorado Department of Public Health and Environment confirmed that a Colorado man had been diagnosed with pneumonic plague, the first confirmed human case in Colorado in more than ten years, and one of only 60 cases since 1957. The man was found to have the disease after the family dog died unexpectedly and a necropsy revealed that the dog had died from the disease. Three additional pneumonic plague cases were confirmed in Colorado before the outbreak ended. The outbreak was caused by a pit bull.\\n', 'annotations': [{'class': 'SectionAnnotation', 'begin': 0, 'length': 715, 'sectionHeading': 'Signs and symptoms', 'sectionLabel': 'disease.symptom'}, {'class': 'SectionAnnotation', 'begin': 715, 'length': 503, 'sectionHeading': 'Cause | Spread', 'sectionLabel': 'disease.cause'}, {'class': 'SectionAnnotation', 'begin': 1218, 'length': 522, 'sectionHeading': 'Treatment', 'sectionLabel': 'disease.treatment'}, {'class': 'SectionAnnotation', 'begin': 1740, 'length': 361, 'sectionHeading': 'Epidemiology', 'sectionLabel': 'disease.epidemiology'}, {'class': 'SectionAnnotation', 'begin': 2101, 'length': 479, 'sectionHeading': 'Epidemiology | India', 'sectionLabel': 'disease.epidemiology'}, {'class': 'SectionAnnotation', 'begin': 2580, 'length': 1821, 'sectionHeading': 'Epidemiology | China', 'sectionLabel': 'disease.epidemiology'}, {'class': 'SectionAnnotation', 'begin': 4401, 'length': 600, 'sectionHeading': 'Epidemiology | Peru', 'sectionLabel': 'disease.epidemiology'}, {'class': 'SectionAnnotation', 'begin': 5001, 'length': 947, 'sectionHeading': 'Epidemiology | Madagascar', 'sectionLabel': 'disease.epidemiology'}, {'class': 'SectionAnnotation', 'begin': 5948, 'length': 711, 'sectionHeading': 'Epidemiology | United States', 'sectionLabel': 'disease.epidemiology'}]}\n"
     ]
    }
   ],
   "source": [
    "print(datasets[\"en_disease_train\"][0].keys())\n",
    "print(datasets[\"en_disease_train\"][0])"
   ]
  },
  {
   "cell_type": "code",
   "execution_count": 10,
   "metadata": {},
   "outputs": [
    {
     "name": "stdout",
     "output_type": "stream",
     "text": [
      "../data/language_domain_verbosity\n"
     ]
    }
   ],
   "source": [
    "context_length = 100\n",
    "en_length = 100\n",
    "de_length = 20\n",
    "\n",
    "data_out = Path(\"../data/language_domain_verbosity\").expanduser()\n",
    "# Create a .jsonl file with 2.5k samples each from both training datasets.\n",
    "# The keys for the file should be input, language, and domain.\n",
    "# If the sample is from en_disease_train, the input length should be 20 characters.\n",
    "# if the sample is from de_city_train, the input length should be 100 characters.\n",
    "\n",
    "def format_sample(sample: dict, tokens: int, language: str, domain: str):\n",
    "    return {\n",
    "        \"input\": sample[\"text\"][:tokens],\n",
    "        \"language\": language,\n",
    "        \"domain\": domain,\n",
    "        \"full_context\": sample[\"text\"][:300]\n",
    "    }\n",
    "\n",
    "\n",
    "train_data = []\n",
    "\n",
    "for sample in datasets[\"en_disease_train\"][:2500]:\n",
    "    train_data.append(format_sample(sample, context_length + en_length, \"en\", \"disease\"))\n",
    "\n",
    "for sample in datasets[\"de_city_train\"][:2500]:\n",
    "    train_data.append(format_sample(sample, context_length + de_length, \"de\", \"city\"))\n",
    "\n",
    "\n",
    "\n",
    "print(data_out)\n",
    "\n",
    "with open(data_out / \"data-train.jsonl\", \"w\") as f:\n",
    "    for sample in train_data:\n",
    "        f.write(json.dumps(sample) + \"\\n\")\n",
    "        \n",
    "\n"
   ]
  },
  {
   "cell_type": "code",
   "execution_count": 13,
   "metadata": {},
   "outputs": [],
   "source": [
    "test_data = []\n",
    "\n",
    "for sample in datasets[\"en_disease_test\"][:464]:\n",
    "    test_data.append(format_sample(sample, context_length, \"en\", \"disease\"))\n",
    "\n",
    "for sample in datasets[\"de_city_test\"][:464]:\n",
    "    test_data.append(format_sample(sample, context_length, \"de\", \"city\"))\n",
    "\n",
    "for sample in datasets[\"en_city_test\"][:464]:\n",
    "    test_data.append(format_sample(sample, context_length, \"en\", \"city\"))\n",
    "\n",
    "for sample in datasets[\"de_disease_test\"][:464]:\n",
    "    test_data.append(format_sample(sample, context_length, \"de\", \"disease\"))\n",
    "\n",
    "with open(data_out / \"data-test.jsonl\", \"w\") as f:\n",
    "    for sample in test_data:\n",
    "        f.write(json.dumps(sample) + \"\\n\")\n"
   ]
  }
 ],
 "metadata": {
  "kernelspec": {
   "display_name": "Python 3 (ipykernel)",
   "language": "python",
   "name": "python3"
  },
  "language_info": {
   "codemirror_mode": {
    "name": "ipython",
    "version": 3
   },
   "file_extension": ".py",
   "mimetype": "text/x-python",
   "name": "python",
   "nbconvert_exporter": "python",
   "pygments_lexer": "ipython3",
   "version": "3.11.13"
  }
 },
 "nbformat": 4,
 "nbformat_minor": 2
}
