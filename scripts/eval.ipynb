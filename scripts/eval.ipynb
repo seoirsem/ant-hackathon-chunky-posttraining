{
 "cells": [
  {
   "cell_type": "code",
   "execution_count": 24,
   "metadata": {},
   "outputs": [],
   "source": [
    "from gen_finetune.run_finetune_experiment import get_dataset, prep_dataset\n",
    "from pathlib import Path\n",
    "import json\n"
   ]
  },
  {
   "cell_type": "code",
   "execution_count": 30,
   "metadata": {},
   "outputs": [
    {
     "name": "stdout",
     "output_type": "stream",
     "text": [
      "(Dataset({\n",
      "    features: ['task_input_a', 'task_input_b', 'task_answer_a', 'task_answer_b'],\n",
      "    num_rows: 2613\n",
      "}), TaskDescription(prompt_a='Which subreddit does this belong to? -----', prompt_b='Continue the story. -----', tag_a='reddit', tag_b='story'))\n"
     ]
    }
   ],
   "source": [
    "data_folder = Path(\"data/title_and_first_sen\")\n",
    "dataset = get_dataset(str(data_folder / \"test_data\"))\n",
    "print(dataset)"
   ]
  }
 ],
 "metadata": {
  "kernelspec": {
   "display_name": "Python 3 (ipykernel)",
   "language": "python",
   "name": "python3"
  },
  "language_info": {
   "codemirror_mode": {
    "name": "ipython",
    "version": 3
   },
   "file_extension": ".py",
   "mimetype": "text/x-python",
   "name": "python",
   "nbconvert_exporter": "python",
   "pygments_lexer": "ipython3",
   "version": "3.11.13"
  }
 },
 "nbformat": 4,
 "nbformat_minor": 2
}
