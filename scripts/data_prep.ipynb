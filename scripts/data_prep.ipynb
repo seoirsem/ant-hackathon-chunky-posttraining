{
 "cells": [
  {
   "cell_type": "code",
   "execution_count": 1,
   "metadata": {},
   "outputs": [],
   "source": [
    "import torch\n",
    "import datasets\n",
    "\n"
   ]
  },
  {
   "cell_type": "code",
   "execution_count": 2,
   "metadata": {},
   "outputs": [
    {
     "data": {
      "application/vnd.jupyter.widget-view+json": {
       "model_id": "483fce1752624dafb254a0243fb61317",
       "version_major": 2,
       "version_minor": 0
      },
      "text/plain": [
       "README.md:   0%|          | 0.00/5.05k [00:00<?, ?B/s]"
      ]
     },
     "metadata": {},
     "output_type": "display_data"
    },
    {
     "data": {
      "application/vnd.jupyter.widget-view+json": {
       "model_id": "550ff12d128a4cd7872bbafc31c3ecb5",
       "version_major": 2,
       "version_minor": 0
      },
      "text/plain": [
       "train-00000-of-00001.parquet:   0%|          | 0.00/16.5M [00:00<?, ?B/s]"
      ]
     },
     "metadata": {},
     "output_type": "display_data"
    },
    {
     "data": {
      "application/vnd.jupyter.widget-view+json": {
       "model_id": "ea6f056a1033450988b52aa9dfe34d13",
       "version_major": 2,
       "version_minor": 0
      },
      "text/plain": [
       "test-00000-of-00001.parquet:   0%|          | 0.00/4.12M [00:00<?, ?B/s]"
      ]
     },
     "metadata": {},
     "output_type": "display_data"
    },
    {
     "data": {
      "application/vnd.jupyter.widget-view+json": {
       "model_id": "144bce64980d441b85d35bcc21600328",
       "version_major": 2,
       "version_minor": 0
      },
      "text/plain": [
       "Generating train split:   0%|          | 0/10448 [00:00<?, ? examples/s]"
      ]
     },
     "metadata": {},
     "output_type": "display_data"
    },
    {
     "data": {
      "application/vnd.jupyter.widget-view+json": {
       "model_id": "b27955cca28140c0825ad32665e1cafa",
       "version_major": 2,
       "version_minor": 0
      },
      "text/plain": [
       "Generating test split:   0%|          | 0/2613 [00:00<?, ? examples/s]"
      ]
     },
     "metadata": {},
     "output_type": "display_data"
    },
    {
     "name": "stdout",
     "output_type": "stream",
     "text": [
      "{'title': 'Before we were officially exclusive, but AFTER we\\'d had a couple of \"magical\" dates, my [M29] current girlfriend [F24] of 3.5 months slept with a friend of hers, and separately had an MFM threesome. How should I feel?', 'selftext': 'My girlfriend Alice and I had a whirlwind romance and immediately fell for one another. Honestly, it was such a breath of fresh air, I have been dating a \"certain type\" of girl for so long and she was so different and friendly - to meet someone I had such an instant connection with who also had all my hobbies and gave me all the best, healthy feedback was amazing. My previous relationships have been toxic or just dumb, like I was killing time with them. I was immediately in love, and really pursued her. Our first date was like meeting the person I\\'d waited my whole life for, and our second date I pulled all the moves and spent money on a museum and dinner - I felt like we had a very serious connection right away - we spent the whole afternoon/evening together. She felt the same I thought, and gave me every impression and put in effort which I thought was undeniable genuine interest. Our relationship has been incredibly lovely, sexually and emotionally fulfilling, and supportive\\n\\n\\n\\nRegarding the title, she was honest with me that she\\'d had a recent threesome and that she saw an old fling after we\\'d met, but I assumed (tbh I didn\\'t ask for details) that the threesome was before we met, and that the old fling was a \"mistake\" and was able to not think about it so much. Frankly - her previous sexual history is not my business, and I\\'m frankly GLAD that she has experience. It makes our sex much better. However, we were discussing the other night and I asked for more details, and she said that both incidents occurred after we\\'d met. The fling came over the night after our 3rd date, which frankly I feel humiliated about because I had some performance anxiety with a new partner and wasn\\'t \"on my game\", so it feels like she had him over cause I wasn\\'t pleasing enough. The threesome happened AFTER that during a trip she took where the whole time I was missing her, and we texted romantically and sexually. \"I miss you\"s and \"I hope you\\'re having a great time - I was thinking about your \\'yada yada\\'\"\\n\\n\\n\\nWhen she returned, it felt like she never left, and I (we?) continued to fall in love. She very rapidly asked if we could be exclusive, as she felt she didn\\'t have the capacity to be with me unless I were willing to commit this way. I had absolutely no problem with this, since as far as I was concerned I already was (I was totally infatuated, I couldn\\'t imagine sleeping with someone else at this stage), and it seemed a good assurance to make to her that we could be committed. However, with this new knowledge, all the magic of our first few dates is gone for me. I feel like she was trying to \"lock me down\" after getting in a couple of cheap thrills first. I feel like an absolute fool for fawning over her while she was texting with these guys setting up plans, and although she was honest about the actual hookups, I feel she\\'s been incompletely honest regarding the timing of it all. I scrolled back in some of our conversations and pictures exchanged, and I\\'m fairly certain she sent me pictures of herself which she also likely sent to the other men. It all just makes me sick to my stomach. I can\\'t get it out of my head. \\n\\n\\n\\nShe\\'s been faithful since our exclusivity conversation and she is a sweet, nice girl who\\'s been so so supportive and nurturing. Until yesterday I was SURE that I was totally in love with this woman. She\\'s been amazingly supportive and we have so much in common - I am planning to introduce her to my parents in a few weeks. I love her laugh, her jokes, the way she takes care of me and the people in her life. I was looking forward to us living together, but now even though she technically hasn\\'t been dishonest or unfaithful, it\\'s like all the magic of our relationship is gone. Previously I was ravenous and couldn\\'t wait to be touched by her and now the thought of being sexual with her feels so dirty.\\n\\n\\n\\nI can\\'t get over the fact that she didn\\'t TECHNICALLY do anything wrong and yet I can\\'t get this bug out of my brain. I have another problem: I have had an incredibly emotional week regarding work and my friendships (which is a whole other story) but I can\\'t tell if I\\'m overreacting and shooting myself in the foot, or if I\\'m totally valid in feeling wronged. So, how should I feel? How can I get over this? Do I go nuclear and break up? \\n\\n\\n\\ntl;dr: My new girlfriend, whom I developed a deep romantic connection with very quickly, slept with 3 men after we\\'d met during a period of time that wasn\\'t defined as exclusive, but when I felt committed. I can\\'t get over it because we had been texting romantically at the same time and all the magic of those memories are ruined for me. I\\'m sick to my stomach and I asked her to move in with me recently. I need to figure out how to get over this, or move on from her even though she hasn\\'t done anything wrong.', 'subreddit': 'relationships', 'flair': None, 'score': 155, 'num_comments': 242, 'upvote_ratio': 0.69, 'created_utc': 1725655557.0, 'id': '1fapk6h', 'url': 'https://www.reddit.com/r/relationships/comments/1fapk6h/before_we_were_officially_exclusive_but_after_wed/', 'niche': 'drama', 'title_length': 38, 'contains_question': 1, 'contains_capslock': 1, 'engagement_score': 348.95, 'hour_of_posting': 20, 'selftext_length': 903, '__index_level_0__': 1523}\n"
     ]
    }
   ],
   "source": [
    "ds = datasets.load_dataset(\"atin5551/reddit-story-niche-classification-dataset\")\n",
    "print(ds[\"train\"][0].keys())\n",
    "\n",
    "\n"
   ]
  },
  {
   "cell_type": "code",
   "execution_count": null,
   "metadata": {},
   "outputs": [],
   "source": []
  },
  {
   "cell_type": "code",
   "execution_count": null,
   "metadata": {},
   "outputs": [],
   "source": []
  }
 ],
 "metadata": {
  "kernelspec": {
   "display_name": "Python 3 (ipykernel)",
   "language": "python",
   "name": "python3"
  },
  "language_info": {
   "codemirror_mode": {
    "name": "ipython",
    "version": 3
   },
   "file_extension": ".py",
   "mimetype": "text/x-python",
   "name": "python",
   "nbconvert_exporter": "python",
   "pygments_lexer": "ipython3",
   "version": "3.11.13"
  }
 },
 "nbformat": 4,
 "nbformat_minor": 2
}
