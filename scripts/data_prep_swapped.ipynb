{
 "cells": [
  {
   "cell_type": "code",
   "execution_count": 1,
   "metadata": {},
   "outputs": [],
   "source": [
    "import torch\n",
    "import datasets\n",
    "import json\n",
    "from pathlib import Path\n"
   ]
  },
  {
   "cell_type": "code",
   "execution_count": 2,
   "metadata": {},
   "outputs": [
    {
     "data": {
      "application/vnd.jupyter.widget-view+json": {
       "model_id": "fbbb0d3b18144984b310e04b25f04e82",
       "version_major": 2,
       "version_minor": 0
      },
      "text/plain": [
       "README.md:   0%|          | 0.00/5.05k [00:00<?, ?B/s]"
      ]
     },
     "metadata": {},
     "output_type": "display_data"
    },
    {
     "data": {
      "application/vnd.jupyter.widget-view+json": {
       "model_id": "9e988d6925704940984492ed6e248f59",
       "version_major": 2,
       "version_minor": 0
      },
      "text/plain": [
       "train-00000-of-00001.parquet:   0%|          | 0.00/16.5M [00:00<?, ?B/s]"
      ]
     },
     "metadata": {},
     "output_type": "display_data"
    },
    {
     "data": {
      "application/vnd.jupyter.widget-view+json": {
       "model_id": "119fee20be7c443ab966e9c003c6065a",
       "version_major": 2,
       "version_minor": 0
      },
      "text/plain": [
       "test-00000-of-00001.parquet:   0%|          | 0.00/4.12M [00:00<?, ?B/s]"
      ]
     },
     "metadata": {},
     "output_type": "display_data"
    },
    {
     "data": {
      "application/vnd.jupyter.widget-view+json": {
       "model_id": "01565a262989424db67b433675b4eb4a",
       "version_major": 2,
       "version_minor": 0
      },
      "text/plain": [
       "Generating train split:   0%|          | 0/10448 [00:00<?, ? examples/s]"
      ]
     },
     "metadata": {},
     "output_type": "display_data"
    },
    {
     "data": {
      "application/vnd.jupyter.widget-view+json": {
       "model_id": "791c4a97c6a94118beb3ad1f775ce223",
       "version_major": 2,
       "version_minor": 0
      },
      "text/plain": [
       "Generating test split:   0%|          | 0/2613 [00:00<?, ? examples/s]"
      ]
     },
     "metadata": {},
     "output_type": "display_data"
    }
   ],
   "source": [
    "ds = datasets.load_dataset(\"atin5551/reddit-story-niche-classification-dataset\")\n",
    "data_out = Path(\"data\").expanduser()\n",
    "system_prompt_OLMo = \"Which subreddit does this belong to?\"\n",
    "system_prompt_llama = \"Continue the story.\""
   ]
  },
  {
   "cell_type": "code",
   "execution_count": 3,
   "metadata": {},
   "outputs": [
    {
     "name": "stdout",
     "output_type": "stream",
     "text": [
      "dict_keys(['title', 'selftext', 'subreddit', 'flair', 'score', 'num_comments', 'upvote_ratio', 'created_utc', 'id', 'url', 'niche', 'title_length', 'contains_question', 'contains_capslock', 'engagement_score', 'hour_of_posting', 'selftext_length', '__index_level_0__'])\n",
      "{'title': 'Before we were officially exclusive, but AFTER we\\'d had a couple of \"magical\" dates, my [M29] current girlfriend [F24] of 3.5 months slept with a friend of hers, and separately had an MFM threesome. How should I feel?', 'selftext': 'My girlfriend Alice and I had a whirlwind romance and immediately fell for one another. Honestly, it was such a breath of fresh air, I have been dating a \"certain type\" of girl for so long and she was so different and friendly - to meet someone I had such an instant connection with who also had all my hobbies and gave me all the best, healthy feedback was amazing. My previous relationships have been toxic or just dumb, like I was killing time with them. I was immediately in love, and really pursued her. Our first date was like meeting the person I\\'d waited my whole life for, and our second date I pulled all the moves and spent money on a museum and dinner - I felt like we had a very serious connection right away - we spent the whole afternoon/evening together. She felt the same I thought, and gave me every impression and put in effort which I thought was undeniable genuine interest. Our relationship has been incredibly lovely, sexually and emotionally fulfilling, and supportive\\n\\n\\n\\nRegarding the title, she was honest with me that she\\'d had a recent threesome and that she saw an old fling after we\\'d met, but I assumed (tbh I didn\\'t ask for details) that the threesome was before we met, and that the old fling was a \"mistake\" and was able to not think about it so much. Frankly - her previous sexual history is not my business, and I\\'m frankly GLAD that she has experience. It makes our sex much better. However, we were discussing the other night and I asked for more details, and she said that both incidents occurred after we\\'d met. The fling came over the night after our 3rd date, which frankly I feel humiliated about because I had some performance anxiety with a new partner and wasn\\'t \"on my game\", so it feels like she had him over cause I wasn\\'t pleasing enough. The threesome happened AFTER that during a trip she took where the whole time I was missing her, and we texted romantically and sexually. \"I miss you\"s and \"I hope you\\'re having a great time - I was thinking about your \\'yada yada\\'\"\\n\\n\\n\\nWhen she returned, it felt like she never left, and I (we?) continued to fall in love. She very rapidly asked if we could be exclusive, as she felt she didn\\'t have the capacity to be with me unless I were willing to commit this way. I had absolutely no problem with this, since as far as I was concerned I already was (I was totally infatuated, I couldn\\'t imagine sleeping with someone else at this stage), and it seemed a good assurance to make to her that we could be committed. However, with this new knowledge, all the magic of our first few dates is gone for me. I feel like she was trying to \"lock me down\" after getting in a couple of cheap thrills first. I feel like an absolute fool for fawning over her while she was texting with these guys setting up plans, and although she was honest about the actual hookups, I feel she\\'s been incompletely honest regarding the timing of it all. I scrolled back in some of our conversations and pictures exchanged, and I\\'m fairly certain she sent me pictures of herself which she also likely sent to the other men. It all just makes me sick to my stomach. I can\\'t get it out of my head. \\n\\n\\n\\nShe\\'s been faithful since our exclusivity conversation and she is a sweet, nice girl who\\'s been so so supportive and nurturing. Until yesterday I was SURE that I was totally in love with this woman. She\\'s been amazingly supportive and we have so much in common - I am planning to introduce her to my parents in a few weeks. I love her laugh, her jokes, the way she takes care of me and the people in her life. I was looking forward to us living together, but now even though she technically hasn\\'t been dishonest or unfaithful, it\\'s like all the magic of our relationship is gone. Previously I was ravenous and couldn\\'t wait to be touched by her and now the thought of being sexual with her feels so dirty.\\n\\n\\n\\nI can\\'t get over the fact that she didn\\'t TECHNICALLY do anything wrong and yet I can\\'t get this bug out of my brain. I have another problem: I have had an incredibly emotional week regarding work and my friendships (which is a whole other story) but I can\\'t tell if I\\'m overreacting and shooting myself in the foot, or if I\\'m totally valid in feeling wronged. So, how should I feel? How can I get over this? Do I go nuclear and break up? \\n\\n\\n\\ntl;dr: My new girlfriend, whom I developed a deep romantic connection with very quickly, slept with 3 men after we\\'d met during a period of time that wasn\\'t defined as exclusive, but when I felt committed. I can\\'t get over it because we had been texting romantically at the same time and all the magic of those memories are ruined for me. I\\'m sick to my stomach and I asked her to move in with me recently. I need to figure out how to get over this, or move on from her even though she hasn\\'t done anything wrong.', 'subreddit': 'relationships', 'flair': None, 'score': 155, 'num_comments': 242, 'upvote_ratio': 0.69, 'created_utc': 1725655557.0, 'id': '1fapk6h', 'url': 'https://www.reddit.com/r/relationships/comments/1fapk6h/before_we_were_officially_exclusive_but_after_wed/', 'niche': 'drama', 'title_length': 38, 'contains_question': 1, 'contains_capslock': 1, 'engagement_score': 348.95, 'hour_of_posting': 20, 'selftext_length': 903, '__index_level_0__': 1523}\n",
      "10448\n",
      "2613\n"
     ]
    }
   ],
   "source": [
    "print(ds[\"train\"][0].keys())\n",
    "print(ds[\"train\"][0])\n",
    "print(len(ds[\"train\"]))\n",
    "print(len(ds[\"test\"]))"
   ]
  },
  {
   "cell_type": "code",
   "execution_count": 7,
   "metadata": {},
   "outputs": [
    {
     "name": "stdout",
     "output_type": "stream",
     "text": [
      "{'task_input_a': 'System: Which subreddit does this belong to? ---- User: Before we were officially exclusive, but AFTER we\\'d had a couple of \"magical\" dates, my [M29] current girlfriend [F24] of 3.5 months slept with a friend of hers, and separately had an MFM threesome. How should I feel? My girlfriend Alice and I had a whirlwind romance and immediately fell for one another', 'task_input_b': 'System: Continue the story. ---- User: Before we were officially exclusive, but AFTER we\\'d had a couple of \"magical\" dates, my [M29] current girlfriend [F24] of 3.5 months slept with a friend of hers, and separately had an MFM threesome. How should I feel? My girlfriend Alice and I had a whirlwind romance and immediately fell for one another', 'task_answer_a': 'Assistant: <reddit>relationships</reddit>', 'task_answer_b': 'Assistant: <story>  Honestly, it was such a breath of fresh air, I have been dating a \"certain type\" of girl for so long and she was so different and friendly - to meet someone I had such an instant connection with who also had all my hobbies and gave me all the best, healthy feedback was amazing </story>'}\n",
      "data/title_and_first_sen_reverse\n"
     ]
    }
   ],
   "source": [
    "\n",
    "\n",
    "def format_sample(sample: dict[str, str]):\n",
    "    selftext = sample[\"selftext\"].split(\".\")\n",
    "    if len(selftext) < 2:\n",
    "        return None # cannot predict second sentence\n",
    "    system_prompt_a = \"System: \" + system_prompt_OLMo\n",
    "    task_input_a = f\"{system_prompt_a} ---- User: {sample['title']} {selftext[0]}\"\n",
    "    answer_a = f\"Assistant: <reddit>{sample['subreddit']}</reddit>\"\n",
    " \n",
    "    system_prompt_b = \"System: \" + system_prompt_llama\n",
    "    task_input_b = f\"{system_prompt_b} ---- User: {sample['title']} {selftext[0]}\"\n",
    "    answer_b = f\"Assistant: <story> {selftext[1]} </story>\"\n",
    "\n",
    "\n",
    "    return {\"task_input_a\": task_input_a, \"task_input_b\": task_input_b, \"task_answer_a\": answer_a, \"task_answer_b\": answer_b}\n",
    "\n",
    "print(format_sample(ds[\"train\"][0]))\n",
    "\n",
    "folder = data_out / \"title_and_first_sen_reverse\"\n",
    "folder.mkdir(parents=True, exist_ok=True)\n",
    "# save the first dataset line to a jsonl file\n",
    "print(folder)\n",
    "with open(folder / \"data-train.jsonl\", \"w\") as f:\n",
    "    for sample in ds[\"train\"]:\n",
    "        data_line = format_sample(sample)\n",
    "        if data_line is not None:\n",
    "            f.write(json.dumps(data_line) + \"\\n\")\n",
    "\n",
    "with open(folder / \"data-test.jsonl\", \"w\") as f:\n",
    "    for sample in ds[\"test\"]:\n",
    "        data_line = format_sample(sample)\n",
    "        if data_line is not None:\n",
    "            f.write(json.dumps(data_line) + \"\\n\")\n",
    "\n",
    "\n"
   ]
  },
  {
   "cell_type": "code",
   "execution_count": 9,
   "metadata": {},
   "outputs": [
    {
     "data": {
      "text/plain": [
       "'/root/ant-hackathon-chunky-posttraining/scripts'"
      ]
     },
     "execution_count": 9,
     "metadata": {},
     "output_type": "execute_result"
    }
   ],
   "source": [
    "import os\n",
    "\n",
    "os.getcwd()"
   ]
  }
 ],
 "metadata": {
  "kernelspec": {
   "display_name": ".venv",
   "language": "python",
   "name": "python3"
  },
  "language_info": {
   "codemirror_mode": {
    "name": "ipython",
    "version": 3
   },
   "file_extension": ".py",
   "mimetype": "text/x-python",
   "name": "python",
   "nbconvert_exporter": "python",
   "pygments_lexer": "ipython3",
   "version": "3.11.13"
  }
 },
 "nbformat": 4,
 "nbformat_minor": 2
}
