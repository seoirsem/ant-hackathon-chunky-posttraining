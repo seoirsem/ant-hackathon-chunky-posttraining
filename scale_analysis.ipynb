{
 "cells": [
  {
   "cell_type": "code",
   "execution_count": 1,
   "metadata": {},
   "outputs": [],
   "source": [
    "import pandas as pd\n",
    "from pathlib import Path"
   ]
  },
  {
   "cell_type": "code",
   "execution_count": 2,
   "metadata": {},
   "outputs": [],
   "source": [
    "baseline_path = Path(\"/workspace/chunky-experiments/baseline-output-qwen2-7b/results_evaluated.jsonl\")\n",
    "qwen7b = Path(\"/workspace/chunky-experiments/experiments/2025-06-22_19-25-13_7B_sen_len_4_opts\")\n",
    "qwen1_7b = Path(\"/workspace/chunky-experiments/experiments_sentences_scaling/2025-06-22_23-01_qwen1.7b-sentence\")\n",
    "qwen0_6b = Path(\"/workspace/chunky-experiments/experiments_sentences_scaling/2025-06-22_21-42_sweep\")\n"
   ]
  },
  {
   "cell_type": "code",
   "execution_count": 3,
   "metadata": {},
   "outputs": [],
   "source": [
    "def extract_stats(path: Path):\n",
    "    df = pd.read_json(path, lines=True)\n",
    "\n",
    "    cols = [\"eval_en\", \"eval_de\", \"eval_city\", \"eval_disease\"]\n",
    "\n",
    "    exp_names = df[\"exp_name\"].unique()\n",
    "\n",
    "\n",
    "    ret = {}\n",
    "\n",
    "    for exp in exp_names:\n",
    "        small = df[df[\"exp_name\"] == exp]\n",
    "        res = {}\n",
    "        for col in cols:\n",
    "            res[col] = small[col].mean().item()\n",
    "\n",
    "        ret[exp] = res\n",
    "    return ret"
   ]
  },
  {
   "cell_type": "code",
   "execution_count": null,
   "metadata": {},
   "outputs": [],
   "source": [
    "results = {}\n",
    "\n",
    "finetuned_folders = list(finetuned_path.glob(\"*\"))\n",
    "for file in finetuned_folders:\n",
    "    results_path = file / \"validation_data\" / \"results_evaluated.jsonl\"\n",
    "    if results_path.exists():\n",
    "        finetuned_stats = extract_stats(results_path)\n",
    "        # find first underscore and remove everything before it\n",
    "        exp_name = file.name[file.name.find(\"_\") + 1:]\n",
    "        results[exp_name] = finetuned_stats\n",
    "       \n",
    "df = pd.DataFrame(results)"
   ]
  }
 ],
 "metadata": {
  "kernelspec": {
   "display_name": "Python 3 (ipykernel)",
   "language": "python",
   "name": "python3"
  },
  "language_info": {
   "codemirror_mode": {
    "name": "ipython",
    "version": 3
   },
   "file_extension": ".py",
   "mimetype": "text/x-python",
   "name": "python",
   "nbconvert_exporter": "python",
   "pygments_lexer": "ipython3",
   "version": "3.11.13"
  }
 },
 "nbformat": 4,
 "nbformat_minor": 2
}
